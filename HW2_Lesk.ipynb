{
 "cells": [
  {
   "cell_type": "markdown",
   "metadata": {},
   "source": [
    "Задание:\n",
    "1. из этого английского корпуса возьмите строчки, где есть слово \"break\"\n",
    "2. выберите 10 случайных предложений (они должны быть разные)\n",
    "3. проверьте правильно ли определяется значения слова break с помощью алгоритма леска (если вы были на паре, вам будет проще) в каждом из предложений\n",
    "4. постарайтесь исправить ошибки\n",
    "\n",
    "Попытки:\n",
    "\n",
    "0. Токенизация по умолчанию + 2 новых стоп-слова.\n",
    "1. Леск на определениях из Wordnet.\n",
    "> Леск на примерах из Wordnet. Победитель. \n",
    "3. Леск на определениях и примерах из Wordnet.\n",
    "4. Леск на определениях из Wordnet, всё со стоп словами.\n",
    "5. Леск на примерах употребления из Wordnet, всё со стоп словами.\n",
    "6. Леск на примерах употребления из Wordnet и синонимах слов из примеров употребления из Wordnet, слова с нижними подчёркиваниями разбиты на два.\n",
    "7. Леск на примерах употребления из Wordnet и синонимах слов из примеров употребления из Wordnet, слова с нижними подчёркиваниями не разбиты на два.\n",
    "8. Леск на определениях из Wordnet и синонимах слов из примеров употребления из Wordnet, слова с нижними подчёркиваниями не разбиты на два."
   ]
  },
  {
   "cell_type": "code",
   "execution_count": null,
   "metadata": {},
   "outputs": [],
   "source": [
    "from nltk.corpus import wordnet as wn\n",
    "from string import punctuation\n",
    "from nltk.corpus import stopwords\n",
    "from pymorphy2 import MorphAnalyzer\n",
    "from nltk.tokenize import word_tokenize\n",
    "\n",
    "morph = MorphAnalyzer()\n",
    "stops = set(stopwords.words('english') + ['finally', 'going'])\n",
    "punct = punctuation+'«»—…“”*№–\\]\\['\n",
    "\n",
    "def normalize(text):\n",
    "    \n",
    "    words = [word.strip(punct) for word in text.lower().split()]\n",
    "    words = [morph.parse(word)[0].normal_form for word in words if word]\n",
    "\n",
    "    return words\n",
    "\n",
    "def tokenize(text):\n",
    "    \n",
    "    words = [word.strip(punct) for word in text.lower().split() if word and word not in stops]\n",
    "    words = [word for word in words if word]\n",
    "\n",
    "    return words"
   ]
  },
  {
   "cell_type": "code",
   "execution_count": 3,
   "metadata": {},
   "outputs": [],
   "source": [
    "import csv\n",
    "import re\n",
    "\n",
    "\n",
    "with open('corpus_eng.txt') as csv_file:\n",
    "    corpus = csv.reader(csv_file) # , delimiter='\\n'\n",
    "    with_break_ = []\n",
    "    for row in corpus:\n",
    "        with_break_.append(re.findall(r\"([^.]*?\\sbreak[s]?\\s[^.]*\\.)\", str(row)))        \n",
    "   # print(with_break_)"
   ]
  },
  {
   "cell_type": "code",
   "execution_count": null,
   "metadata": {},
   "outputs": [],
   "source": [
    "with_break_clean = []\n",
    "for para in with_break_:\n",
    "   # print(para)\n",
    "    if para != []:\n",
    "        with_break_clean.append(para)\n",
    "#print(with_break_clean)"
   ]
  },
  {
   "cell_type": "markdown",
   "metadata": {},
   "source": [
    "## Выбираю рандомные предложения"
   ]
  },
  {
   "cell_type": "code",
   "execution_count": 8,
   "metadata": {},
   "outputs": [
    {
     "name": "stdout",
     "output_type": "stream",
     "text": [
      "[['[\"Black Magic - Halloween\\'s the perfect excuse to break out the black vodka and an easy made-from-scratch soda drink awaits your ghoulish guests.'], [' If he breaks off Michigan and wins the states leaning toward him\", \\' plus Florida\\', \\' Ohio\\', \\' Iowa and North Carolina\\', \\' he could lose New Hampshire\\', \\' Nevada\\', \\' Colorado and Pennsylvania and still break through with 275 electoral votes.'], ['[\\'Jones intercepted Wallabies scrumhalf Will Genia to save a certain try\\', \" and while Foley\\'s second goalkick evened the scoreline\", \\' Jones stepped Kuridrani and scored to help Scotland go into the break 17-10 up.'], ['[\"E\\'Twaun Moore scored 14 of his 20 points in the third quarter as New Orleans appeared to break the game open.'], [\" The actress recently took a break from filming Suits , and it seems that she\\\\'s using the time to get up close and personal with the world\\\\'s favourite ginger.\"], [\" Finally', ' a break in the monotonous playoff sequence.\"], [\"['Her first big break was in 1970’s Brewster McCloud ', ' and she then went on to star in Nashville (1975) and played Olive Oyl in the big-screen adaptation of Popeye (1980) opposite Robin Williams .\"], [' So if you break it down\", \" it\\'s just over $5 a month! That\\'s cheaper than the drugstore.'], [\" How did she keep going? ‘Day by day', ' hour by hour', ' story by story', '’ Yu told me during a break from packing up her office.\"], [' Claim to fame: Her first big break was in Marc Jacobs’ Spring 2016 campaign.']]\n"
     ]
    }
   ],
   "source": [
    "import random\n",
    "\n",
    "random_break = random.sample(with_break_clean, k=10)\n",
    "print(random_break)"
   ]
  },
  {
   "cell_type": "code",
   "execution_count": 21,
   "metadata": {},
   "outputs": [],
   "source": [
    "saved_break = random_break\n",
    "#print(saved_break)"
   ]
  },
  {
   "cell_type": "code",
   "execution_count": 10,
   "metadata": {},
   "outputs": [],
   "source": [
    "flattened_break = [y for x in saved_break for y in x]\n",
    "#print(flattened_break)"
   ]
  },
  {
   "cell_type": "markdown",
   "metadata": {},
   "source": [
    "## Чищу от всего, кроме слов"
   ]
  },
  {
   "cell_type": "code",
   "execution_count": 22,
   "metadata": {},
   "outputs": [
    {
     "name": "stdout",
     "output_type": "stream",
     "text": [
      "['  Black Magic   Halloween s the perfect excuse to break out the black vodka and an easy made from scratch soda drink awaits your ghoulish guests ', ' If he breaks off Michigan and wins the states leaning toward him     plus Florida     Ohio     Iowa and North Carolina     he could lose New Hampshire     Nevada     Colorado and Pennsylvania and still break through with 275 electoral votes ', '  Jones intercepted Wallabies scrumhalf Will Genia to save a certain try     and while Foley s second goalkick evened the scoreline     Jones stepped Kuridrani and scored to help Scotland go into the break 17 10 up ', '  E Twaun Moore scored 14 of his 20 points in the third quarter as New Orleans appeared to break the game open ', ' The actress recently took a break from filming Suits   and it seems that she  s using the time to get up close and personal with the world  s favourite ginger ', ' Finally     a break in the monotonous playoff sequence ', '  Her first big break was in 1970 s Brewster McCloud      and she then went on to star in Nashville  1975  and played Olive Oyl in the big screen adaptation of Popeye  1980  opposite Robin Williams  ', ' So if you break it down     it s just over  5 a month  That s cheaper than the drugstore ', ' How did she keep going   Day by day     hour by hour     story by story      Yu told me during a break from packing up her office ', ' Claim to fame  Her first big break was in Marc Jacobs  Spring 2016 campaign ']\n"
     ]
    }
   ],
   "source": [
    "clean = []\n",
    "for i in flattened_break:\n",
    "    clean.append(re.sub(r'[^\\w]', ' ', i))\n",
    "print(clean)"
   ]
  },
  {
   "cell_type": "code",
   "execution_count": 105,
   "metadata": {},
   "outputs": [],
   "source": [
    "#clean_tok = []\n",
    "#for i in clean:\n",
    "#    clean_tok.append(tokenize(i))\n",
    "#print(clean_tok)"
   ]
  },
  {
   "cell_type": "code",
   "execution_count": 104,
   "metadata": {},
   "outputs": [],
   "source": [
    "#clean_nor = []\n",
    "#for i in clean:\n",
    "#    clean_nor.append(normalize(i))\n",
    "#print(clean_nor)"
   ]
  },
  {
   "cell_type": "markdown",
   "metadata": {},
   "source": [
    "## Пробы Леска"
   ]
  },
  {
   "cell_type": "code",
   "execution_count": 42,
   "metadata": {},
   "outputs": [],
   "source": [
    "#definitions\n",
    "\n",
    "def lesk( word, sentence ):\n",
    "    \"\"\"Ваш код тут\"\"\"\n",
    "    bestsense = 0\n",
    "    maxoverlap = 0\n",
    "    sentence_1 = sentence\n",
    "    sentence_1 = set(tokenize(sentence_1))\n",
    "    for i, synset in enumerate(wn.synsets(word)):\n",
    "        definition = synset.definition()\n",
    "        definition_1 = tokenize(synset.definition())\n",
    "        definition_1 = set(definition_1)\n",
    "        overlap = len(definition_1 & sentence_1)\n",
    "            \n",
    "        if overlap > maxoverlap:\n",
    "            maxoverlap = overlap\n",
    "            bestsense = i, sentence, definition\n",
    "    \n",
    "    return bestsense"
   ]
  },
  {
   "cell_type": "code",
   "execution_count": 80,
   "metadata": {},
   "outputs": [
    {
     "name": "stdout",
     "output_type": "stream",
     "text": [
      "1 : (51, '  Black Magic   Halloween s the perfect excuse to break out the black vodka and an easy made from scratch soda drink awaits your ghoulish guests ', 'break down, literally or metaphorically')\n",
      "2 : (51, ' If he breaks off Michigan and wins the states leaning toward him     plus Florida     Ohio     Iowa and North Carolina     he could lose New Hampshire     Nevada     Colorado and Pennsylvania and still break through with 275 electoral votes ', 'break down, literally or metaphorically')\n",
      "3 : (46, '  Jones intercepted Wallabies scrumhalf Will Genia to save a certain try     and while Foley s second goalkick evened the scoreline     Jones stepped Kuridrani and scored to help Scotland go into the break 17 10 up ', 'discontinue an association or relation; go different ways')\n",
      "4 : (11, '  E Twaun Moore scored 14 of his 20 points in the third quarter as New Orleans appeared to break the game open ', '(tennis) a score consisting of winning a game when your opponent was serving')\n",
      "5 : (3, ' The actress recently took a break from filming Suits   and it seems that she  s using the time to get up close and personal with the world  s favourite ginger ', 'a personal or social separation (as between opposing factions)')\n",
      "6 : (51, ' Finally     a break in the monotonous playoff sequence ', 'break down, literally or metaphorically')\n",
      "7 : (51, '  Her first big break was in 1970 s Brewster McCloud      and she then went on to star in Nashville  1975  and played Olive Oyl in the big screen adaptation of Popeye  1980  opposite Robin Williams  ', 'break down, literally or metaphorically')\n",
      "8 : (51, ' So if you break it down     it s just over  5 a month  That s cheaper than the drugstore ', 'break down, literally or metaphorically')\n",
      "9 : (51, ' How did she keep going   Day by day     hour by hour     story by story      Yu told me during a break from packing up her office ', 'break down, literally or metaphorically')\n",
      "10 : (51, ' Claim to fame  Her first big break was in Marc Jacobs  Spring 2016 campaign ', 'break down, literally or metaphorically')\n"
     ]
    }
   ],
   "source": [
    "word = 'break'\n",
    "count = 0\n",
    "for sentence in clean:\n",
    "    count +=1\n",
    "    print(count, ':', lesk(word, sentence))"
   ]
  },
  {
   "cell_type": "markdown",
   "metadata": {},
   "source": [
    "## ^ Oпределения из wordnet.\n",
    "Не очень хорошо: совпали значения 4 (но баскетбол, а не теннис, как в определении),8."
   ]
  },
  {
   "cell_type": "code",
   "execution_count": 144,
   "metadata": {},
   "outputs": [],
   "source": [
    "#examples\n",
    "\n",
    "def lesk_1( word, sentence ):\n",
    "    \"\"\"Ваш код тут\"\"\"\n",
    "    bestsense = 0\n",
    "    maxoverlap = 0\n",
    "    sentence_1 = sentence\n",
    "    sentence_1 = set(tokenize(sentence))\n",
    "    for i, synset in enumerate(wn.synsets(word)):\n",
    "        examples = synset.examples()\n",
    "        examples_1 = [tokenize(line) for line in synset.examples()]\n",
    "        examples_1 = set([y for x in examples_1 for y in x])\n",
    "        definition = synset.definition()\n",
    "        overlap = len(examples_1 & sentence_1)    \n",
    "        if overlap > maxoverlap:\n",
    "            maxoverlap = overlap\n",
    "            bestsense = i, sentence, examples, definition\n",
    "    \n",
    "    return bestsense"
   ]
  },
  {
   "cell_type": "code",
   "execution_count": 145,
   "metadata": {},
   "outputs": [
    {
     "name": "stdout",
     "output_type": "stream",
     "text": [
      "1 : (13, '  Black Magic   Halloween s the perfect excuse to break out the black vodka and an easy made from scratch soda drink awaits your ghoulish guests ', ['he made a break for the open door'], 'a sudden dash')\n",
      "2 : (27, ' If he breaks off Michigan and wins the states leaning toward him     plus Florida     Ohio     Iowa and North Carolina     he could lose New Hampshire     Nevada     Colorado and Pennsylvania and still break through with 275 electoral votes ', ['The horse was tough to break', 'I broke in the new intern'], 'make submissive, obedient, or useful')\n",
      "3 : (0, '  Jones intercepted Wallabies scrumhalf Will Genia to save a certain try     and while Foley s second goalkick evened the scoreline     Jones stepped Kuridrani and scored to help Scotland go into the break 17 10 up ', ['the telephone is an annoying interruption', 'there was a break in the action when a player was hurt'], 'some abrupt occurrence that interrupts an ongoing activity')\n",
      "4 : (13, '  E Twaun Moore scored 14 of his 20 points in the third quarter as New Orleans appeared to break the game open ', ['he made a break for the open door'], 'a sudden dash')\n",
      "5 : (4, ' The actress recently took a break from filming Suits   and it seems that she  s using the time to get up close and personal with the world  s favourite ginger ', ['we took a 10-minute break', 'he took time out to recuperate'], 'a pause from doing something (as work)')\n",
      "6 : (0, ' Finally     a break in the monotonous playoff sequence ', ['the telephone is an annoying interruption', 'there was a break in the action when a player was hurt'], 'some abrupt occurrence that interrupts an ongoing activity')\n",
      "7 : (1, '  Her first big break was in 1970 s Brewster McCloud      and she then went on to star in Nashville  1975  and played Olive Oyl in the big screen adaptation of Popeye  1980  opposite Robin Williams  ', ['he finally got his big break'], 'an unexpected piece of good luck')\n",
      "8 : (0, ' So if you break it down     it s just over  5 a month  That s cheaper than the drugstore ', ['the telephone is an annoying interruption', 'there was a break in the action when a player was hurt'], 'some abrupt occurrence that interrupts an ongoing activity')\n",
      "9 : (0, ' How did she keep going   Day by day     hour by hour     story by story      Yu told me during a break from packing up her office ', ['the telephone is an annoying interruption', 'there was a break in the action when a player was hurt'], 'some abrupt occurrence that interrupts an ongoing activity')\n",
      "10 : (1, ' Claim to fame  Her first big break was in Marc Jacobs  Spring 2016 campaign ', ['he finally got his big break'], 'an unexpected piece of good luck')\n"
     ]
    }
   ],
   "source": [
    "word = 'break'\n",
    "count = 0\n",
    "for sentence in clean:\n",
    "    count +=1\n",
    "    print(count, ':', lesk_1(word, sentence))"
   ]
  },
  {
   "cell_type": "markdown",
   "metadata": {},
   "source": [
    "## ^ Примеры употребления из wordnet. (Леск на примерах из Wordnet)\n",
    "Невероятно: на правду похожи определения 1,3,4,5,6,7,9,10."
   ]
  },
  {
   "cell_type": "code",
   "execution_count": 147,
   "metadata": {},
   "outputs": [],
   "source": [
    "#definitions and examples together\n",
    "\n",
    "def lesk_2( word, sentence ):\n",
    "    \"\"\"Ваш код тут\"\"\"\n",
    "    bestsense = 0\n",
    "    maxoverlap = 0\n",
    "    sentence_1 = sentence\n",
    "    sentence_1 = set(tokenize(sentence_1))\n",
    "    for i, synset in enumerate(wn.synsets(word)):\n",
    "        definition = synset.definition()\n",
    "        definition_1 = tokenize(synset.definition())\n",
    "  #      definition_2 = set(definition_1)\n",
    "       # print(definition_1)\n",
    "        examples = synset.examples()\n",
    "        examples_1 = [tokenize(line) for line in synset.examples()]\n",
    "        examples_1 = [y for x in examples_1 for y in x]\n",
    "      #  print(examples_1)\n",
    "        def_and_ex = examples_1 + definition_1\n",
    "      #  print(def_and_ex)\n",
    "        def_and_ex = set(def_and_ex)\n",
    "        overlap = len(def_and_ex & sentence_1)\n",
    "            \n",
    "        if overlap > maxoverlap:\n",
    "            maxoverlap = overlap\n",
    "            bestsense = i\n",
    "         #   bestsense = i, sentence, definition, examples\n",
    "    \n",
    "    return bestsense"
   ]
  },
  {
   "cell_type": "code",
   "execution_count": 148,
   "metadata": {},
   "outputs": [
    {
     "name": "stdout",
     "output_type": "stream",
     "text": [
      "1 : 13\n",
      "2 : 27\n",
      "3 : 0\n",
      "4 : 13\n",
      "5 : 4\n",
      "6 : 0\n",
      "7 : 1\n",
      "8 : 0\n",
      "9 : 0\n",
      "10 : 1\n"
     ]
    }
   ],
   "source": [
    "word = 'break'\n",
    "count = 0\n",
    "for sentence in clean:\n",
    "    count +=1\n",
    "    print(count, ':', lesk_2(word, sentence))"
   ]
  },
  {
   "cell_type": "markdown",
   "metadata": {},
   "source": [
    "## ^ Определения и примеры употребления из wordnet.\n",
    "То же самое, что и в версии алгоритма #examples: на правду похожи определения 1,3,4,5,6,7,9,10."
   ]
  },
  {
   "cell_type": "code",
   "execution_count": 84,
   "metadata": {},
   "outputs": [],
   "source": [
    "#try it without stops (I need the prepositions! They help find phrasal verbs)\n",
    "#definitions\n",
    "\n",
    "def lesk_3( word, sentence ):\n",
    "    \"\"\"Ваш код тут\"\"\"\n",
    "    bestsense = 0\n",
    "    maxoverlap = 0\n",
    "    sentence_1 = sentence\n",
    "    sentence_1 = set(normalize(sentence_1))\n",
    "    for i, synset in enumerate(wn.synsets(word)):\n",
    "        definition = synset.definition()\n",
    "        definition_1 = normalize(synset.definition())\n",
    "        definition_1 = set(definition_1)\n",
    "        overlap = len(definition_1 & sentence_1)\n",
    "            \n",
    "        if overlap > maxoverlap:\n",
    "            maxoverlap = overlap\n",
    "            bestsense = i, sentence, definition\n",
    "    \n",
    "    return bestsense\n"
   ]
  },
  {
   "cell_type": "code",
   "execution_count": 85,
   "metadata": {},
   "outputs": [
    {
     "name": "stdout",
     "output_type": "stream",
     "text": [
      "1 : (2, '  Black Magic   Halloween s the perfect excuse to break out the black vodka and an easy made from scratch soda drink awaits your ghoulish guests ', \"(geology) a crack in the earth's crust resulting from the displacement of one side with respect to the other\")\n",
      "2 : (2, ' If he breaks off Michigan and wins the states leaning toward him     plus Florida     Ohio     Iowa and North Carolina     he could lose New Hampshire     Nevada     Colorado and Pennsylvania and still break through with 275 electoral votes ', \"(geology) a crack in the earth's crust resulting from the displacement of one side with respect to the other\")\n",
      "3 : (2, '  Jones intercepted Wallabies scrumhalf Will Genia to save a certain try     and while Foley s second goalkick evened the scoreline     Jones stepped Kuridrani and scored to help Scotland go into the break 17 10 up ', \"(geology) a crack in the earth's crust resulting from the displacement of one side with respect to the other\")\n",
      "4 : (9, '  E Twaun Moore scored 14 of his 20 points in the third quarter as New Orleans appeared to break the game open ', 'an abrupt change in the tone or register of the voice (as at puberty or due to emotion)')\n",
      "5 : (2, ' The actress recently took a break from filming Suits   and it seems that she  s using the time to get up close and personal with the world  s favourite ginger ', \"(geology) a crack in the earth's crust resulting from the displacement of one side with respect to the other\")\n",
      "6 : (2, ' Finally     a break in the monotonous playoff sequence ', \"(geology) a crack in the earth's crust resulting from the displacement of one side with respect to the other\")\n",
      "7 : (2, '  Her first big break was in 1970 s Brewster McCloud      and she then went on to star in Nashville  1975  and played Olive Oyl in the big screen adaptation of Popeye  1980  opposite Robin Williams  ', \"(geology) a crack in the earth's crust resulting from the displacement of one side with respect to the other\")\n",
      "8 : (30, ' So if you break it down     it s just over  5 a month  That s cheaper than the drugstore ', 'make known to the public information that was previously known only to a few people or that was meant to be kept a secret')\n",
      "9 : (58, ' How did she keep going   Day by day     hour by hour     story by story      Yu told me during a break from packing up her office ', 'break a piece from a whole')\n",
      "10 : (2, ' Claim to fame  Her first big break was in Marc Jacobs  Spring 2016 campaign ', \"(geology) a crack in the earth's crust resulting from the displacement of one side with respect to the other\")\n"
     ]
    }
   ],
   "source": [
    "word = 'break'\n",
    "count = 0\n",
    "for sentence in clean:\n",
    "    count +=1\n",
    "    print(count, ':', lesk_3(word, sentence))"
   ]
  },
  {
   "cell_type": "markdown",
   "metadata": {},
   "source": [
    "## ^ Определения из wordnet, всё со стоп словами.\n",
    "Ноль совпадений, потому что совершенно случайные слова (добавленные стоп-слова) мотивировали выбор определения, а в определениях даже изначально нет нужных для различения фразовых глаголов предлогов и наречий. В примерах предлоги есть, это вселяет надежду.\n"
   ]
  },
  {
   "cell_type": "code",
   "execution_count": 92,
   "metadata": {},
   "outputs": [],
   "source": [
    "#try it without stops (I need the prepositions! They help find phrasal verbs)\n",
    "#examples\n",
    "\n",
    "def lesk_4( word, sentence ):\n",
    "    \"\"\"Ваш код тут\"\"\"\n",
    "    bestsense = 0\n",
    "    maxoverlap = 0\n",
    "    sentence_1 = sentence\n",
    "    sentence_1 = set(normalize(sentence))\n",
    "    for i, synset in enumerate(wn.synsets(word)):\n",
    "        examples = synset.examples()\n",
    "        examples_1 = [normalize(line) for line in synset.examples()]\n",
    "        examples_1 = set([y for x in examples_1 for y in x])\n",
    "        definition = synset.definition()\n",
    "        overlap = len(examples_1 & sentence_1)    \n",
    "        if overlap > maxoverlap:\n",
    "            maxoverlap = overlap\n",
    "            bestsense = i, sentence, examples, definition\n",
    "    \n",
    "    return bestsense\n"
   ]
  },
  {
   "cell_type": "code",
   "execution_count": 91,
   "metadata": {},
   "outputs": [
    {
     "name": "stdout",
     "output_type": "stream",
     "text": [
      "1 : (0, '  Black Magic   Halloween s the perfect excuse to break out the black vodka and an easy made from scratch soda drink awaits your ghoulish guests ', ['the telephone is an annoying interruption', 'there was a break in the action when a player was hurt'], 'some abrupt occurrence that interrupts an ongoing activity')\n",
      "2 : (37, ' If he breaks off Michigan and wins the states leaning toward him     plus Florida     Ohio     Iowa and North Carolina     he could lose New Hampshire     Nevada     Colorado and Pennsylvania and still break through with 275 electoral votes ', [\"If the new teacher won't break, we'll add some stress\"], 'be broken in')\n",
      "3 : (7, '  Jones intercepted Wallabies scrumhalf Will Genia to save a certain try     and while Foley s second goalkick evened the scoreline     Jones stepped Kuridrani and scored to help Scotland go into the break 17 10 up ', ['it was a nasty fracture', 'the break seems to have been caused by a fall'], 'breaking of hard tissue such as bone')\n",
      "4 : (27, '  E Twaun Moore scored 14 of his 20 points in the third quarter as New Orleans appeared to break the game open ', ['The horse was tough to break', 'I broke in the new intern'], 'make submissive, obedient, or useful')\n",
      "5 : (7, ' The actress recently took a break from filming Suits   and it seems that she  s using the time to get up close and personal with the world  s favourite ginger ', ['it was a nasty fracture', 'the break seems to have been caused by a fall'], 'breaking of hard tissue such as bone')\n",
      "6 : (0, ' Finally     a break in the monotonous playoff sequence ', ['the telephone is an annoying interruption', 'there was a break in the action when a player was hurt'], 'some abrupt occurrence that interrupts an ongoing activity')\n",
      "7 : (32, '  Her first big break was in 1970 s Brewster McCloud      and she then went on to star in Nashville  1975  and played Olive Oyl in the big screen adaptation of Popeye  1980  opposite Robin Williams  ', ['The engine finally went', 'The car died on the road', 'The bus we travelled in broke down on the way to town', 'The coffee maker broke', 'The engine failed on the way to town', 'her eyesight went after the accident'], 'stop operating or functioning')\n",
      "8 : (2, ' So if you break it down     it s just over  5 a month  That s cheaper than the drugstore ', ['they built it right over a geological fault', \"he studied the faulting of the earth's crust\"], \"(geology) a crack in the earth's crust resulting from the displacement of one side with respect to the other\")\n",
      "9 : (16, ' How did she keep going   Day by day     hour by hour     story by story      Yu told me during a break from packing up her office ', ['She interrupted her pregnancy', 'break a lucky streak', 'break the cycle of poverty'], 'terminate')\n",
      "10 : (9, ' Claim to fame  Her first big break was in Marc Jacobs  Spring 2016 campaign ', ['then there was a break in her voice'], 'an abrupt change in the tone or register of the voice (as at puberty or due to emotion)')\n"
     ]
    }
   ],
   "source": [
    "word = 'break'\n",
    "count = 0\n",
    "for sentence in clean:\n",
    "    count +=1\n",
    "    print(count, ':', lesk_4(word, sentence))"
   ]
  },
  {
   "cell_type": "markdown",
   "metadata": {},
   "source": [
    "## ^ Примеры употребления из wordnet, всё со стоп словами.\n",
    "Что ж, приходится признать, что стоп-слова бесполезны, потому что даже налисие предлогов из примеров не помогло. Только 6 выправился, остальное основано на случайных совпадениях."
   ]
  },
  {
   "cell_type": "markdown",
   "metadata": {},
   "source": [
    "## Попробуем добавить синонимы из WordNet к словам из примеров"
   ]
  },
  {
   "cell_type": "code",
   "execution_count": 129,
   "metadata": {},
   "outputs": [
    {
     "name": "stdout",
     "output_type": "stream",
     "text": [
      "['interruption', 'break', 'break', 'good', 'luck', 'happy', 'chance', 'fault', 'faulting', 'geological', 'fault', 'shift', 'fracture', 'break', 'rupture', 'breach', 'break', 'severance', 'rift', 'falling', 'out', 'respite', 'recess', 'break', 'time', 'out', 'breakage', 'break', 'breaking', 'pause', 'intermission', 'break', 'interruption', 'suspension', 'fracture', 'break', 'break', 'break', 'break', 'break', 'break', 'of', 'break', 'interruption', 'disruption', 'gap', 'break', 'open', 'frame', 'break', 'break', 'breakout', 'jailbreak', 'gaolbreak', 'prisonbreak', 'prison-breaking', 'interrupt', 'break', 'break', 'separate', 'split', 'up', 'fall', 'apart', 'come', 'apart', 'break', 'break', 'bust', 'break', 'transgress', 'offend', 'infract', 'violate', 'go', 'against', 'breach', 'break', 'break', 'break', 'out', 'break', 'away', 'break', 'break', 'burst', 'erupt', 'break', 'break', 'off', 'discontinue', 'stop', 'break', 'in', 'break', 'break', 'in', 'break', 'violate', 'go', 'against', 'break', 'better', 'break', 'unwrap', 'disclose', 'let', 'on', 'bring', 'out', 'reveal', 'discover', 'expose', 'divulge', 'break', 'give', 'away', 'let', 'out', 'break', 'fail', 'go', 'bad', 'give', 'way', 'die', 'give', 'out', 'conk', 'out', 'go', 'break', 'break', 'down', 'break', 'break', 'away', 'break', 'break', 'dampen', 'damp', 'soften', 'weaken', 'break', 'break', 'break', 'break', 'break', 'break', 'break', 'break', 'break', 'break', 'separate', 'part', 'split', 'up', 'split', 'break', 'break', 'up', 'demote', 'bump', 'relegate', 'break', 'kick', 'downstairs', 'bankrupt', 'ruin', 'break', 'smash', 'break', 'break', 'collapse', 'fall', 'in', 'cave', 'in', 'give', 'give', 'way', 'break', 'founder', 'break', 'dance', 'break-dance', 'break', 'break', 'break', 'break', 'up', 'break', 'break', 'break', 'wear', 'wear', 'out', 'bust', 'fall', 'apart', 'break', 'break', 'off', 'snap', 'off', 'break', 'break', 'break', 'get', 'out', 'get', 'around', 'pause', 'intermit', 'break', 'break', 'break', 'break', 'break', 'break', 'break', 'recrudesce', 'develop', 'crack', 'check', 'break', 'break', 'break', 'fracture', 'break', 'break', 'break']\n"
     ]
    }
   ],
   "source": [
    "# Достаю синонимы и делаю из них list\n",
    "\n",
    "syns = []\n",
    "clean_syns = []\n",
    "\n",
    "for ss in wn.synsets('break'):\n",
    "    syns += ss.lemma_names()\n",
    "for word in syns:\n",
    "    if \"_\" in word:\n",
    "        word = word.split('_')\n",
    "        clean_syns.append(word[0])\n",
    "        clean_syns.append(word[1])\n",
    "    else:\n",
    "        clean_syns.append(word)\n",
    "print(clean_syns)"
   ]
  },
  {
   "cell_type": "code",
   "execution_count": 149,
   "metadata": {},
   "outputs": [],
   "source": [
    "#examples & synonyms of examples\n",
    "\n",
    "def lesk_5( word, sentence ):\n",
    "    \"\"\"Ваш код тут\"\"\"\n",
    "    bestsense = 0\n",
    "    maxoverlap = 0\n",
    "    sentence_1 = sentence\n",
    "    sentence_1 = set(tokenize(sentence))\n",
    "    for i, synset in enumerate(wn.synsets(word)):\n",
    "        examples = synset.examples()\n",
    "        examples_1 = [tokenize(line) for line in synset.examples()]\n",
    "        examples_1 = [y for x in examples_1 for y in x]\n",
    "      #  examples_1 = set([y for x in examples_1 for y in x])\n",
    "        definition = synset.definition()\n",
    "        \n",
    "        syns = []\n",
    "        clean_syns = []\n",
    "        \n",
    "        for word in examples_1:\n",
    "            for ss in wn.synsets(word):\n",
    "                syns += ss.lemma_names()\n",
    "            for word in syns:\n",
    "                if \"_\" in word:\n",
    "                    word = word.split('_')\n",
    "                    clean_syns.append(word[0])\n",
    "                    clean_syns.append(word[1])\n",
    "                else:\n",
    "                    clean_syns.append(word)\n",
    "        examples_ss = set(examples_1 + clean_syns)\n",
    "        overlap = len(examples_ss & sentence_1)\n",
    "        \n",
    "        if overlap > maxoverlap:\n",
    "            maxoverlap = overlap\n",
    "            bestsense = i, sentence, examples, definition\n",
    "    \n",
    "    return bestsense"
   ]
  },
  {
   "cell_type": "code",
   "execution_count": 150,
   "metadata": {},
   "outputs": [
    {
     "name": "stdout",
     "output_type": "stream",
     "text": [
      "1 : (13, '  Black Magic   Halloween s the perfect excuse to break out the black vodka and an easy made from scratch soda drink awaits your ghoulish guests ', ['he made a break for the open door'], 'a sudden dash')\n",
      "2 : (11, ' If he breaks off Michigan and wins the states leaning toward him     plus Florida     Ohio     Iowa and North Carolina     he could lose New Hampshire     Nevada     Colorado and Pennsylvania and still break through with 275 electoral votes ', ['he was up two breaks in the second set'], '(tennis) a score consisting of winning a game when your opponent was serving')\n",
      "3 : (11, '  Jones intercepted Wallabies scrumhalf Will Genia to save a certain try     and while Foley s second goalkick evened the scoreline     Jones stepped Kuridrani and scored to help Scotland go into the break 17 10 up ', ['he was up two breaks in the second set'], '(tennis) a score consisting of winning a game when your opponent was serving')\n",
      "4 : (27, '  E Twaun Moore scored 14 of his 20 points in the third quarter as New Orleans appeared to break the game open ', ['The horse was tough to break', 'I broke in the new intern'], 'make submissive, obedient, or useful')\n",
      "5 : (4, ' The actress recently took a break from filming Suits   and it seems that she  s using the time to get up close and personal with the world  s favourite ginger ', ['we took a 10-minute break', 'he took time out to recuperate'], 'a pause from doing something (as work)')\n",
      "6 : (39, ' Finally     a break in the monotonous playoff sequence ', ['The flat plain was broken by tall mesas'], 'vary or interrupt a uniformity or continuity')\n",
      "7 : (1, '  Her first big break was in 1970 s Brewster McCloud      and she then went on to star in Nashville  1975  and played Olive Oyl in the big screen adaptation of Popeye  1980  opposite Robin Williams  ', ['he finally got his big break'], 'an unexpected piece of good luck')\n",
      "8 : (43, ' So if you break it down     it s just over  5 a month  That s cheaper than the drugstore ', ['Things have been breaking pretty well for us in the past few months'], 'happen or take place')\n",
      "9 : (3, ' How did she keep going   Day by day     hour by hour     story by story      Yu told me during a break from packing up her office ', ['they hoped to avoid a break in relations'], 'a personal or social separation (as between opposing factions)')\n",
      "10 : (68, ' Claim to fame  Her first big break was in Marc Jacobs  Spring 2016 campaign ', ['Report the news as it develops', 'These political movements recrudesce from time to time'], 'happen')\n"
     ]
    }
   ],
   "source": [
    "word = 'break'\n",
    "count = 0\n",
    "for sentence in clean:\n",
    "    count +=1\n",
    "    print(count, ':', lesk_5(word, sentence))"
   ]
  },
  {
   "cell_type": "markdown",
   "metadata": {},
   "source": [
    "Результат хуже, чем дали просто примеры, но не так плох, как просто определения:\n",
    "1, 4?, 5, 6, 7."
   ]
  },
  {
   "cell_type": "code",
   "execution_count": 151,
   "metadata": {},
   "outputs": [],
   "source": [
    "#examples & synonyms of examples, but:\n",
    "# тут я не разделяю на два слова с нижними подчёркиваниями из синонимов\n",
    "\n",
    "def lesk_5( word, sentence ):\n",
    "    \"\"\"Ваш код тут\"\"\"\n",
    "    bestsense = 0\n",
    "    maxoverlap = 0\n",
    "    sentence_1 = sentence\n",
    "    sentence_1 = set(tokenize(sentence))\n",
    "    for i, synset in enumerate(wn.synsets(word)):\n",
    "        examples = synset.examples()\n",
    "        examples_1 = [tokenize(line) for line in synset.examples()]\n",
    "        examples_1 = [y for x in examples_1 for y in x]\n",
    "      #  examples_1 = set([y for x in examples_1 for y in x])\n",
    "        definition = synset.definition()\n",
    "        \n",
    "        syns = []\n",
    "        clean_syns = []\n",
    "        \n",
    "        for word in examples_1:\n",
    "            for ss in wn.synsets(word):\n",
    "                syns += ss.lemma_names()\n",
    "        examples_ss = set(examples_1 + syns)\n",
    "        overlap = len(examples_ss & sentence_1)\n",
    "        \n",
    "        if overlap > maxoverlap:\n",
    "            maxoverlap = overlap\n",
    "            bestsense = i, sentence, examples, definition\n",
    "    \n",
    "    return bestsense"
   ]
  },
  {
   "cell_type": "code",
   "execution_count": 152,
   "metadata": {},
   "outputs": [
    {
     "name": "stdout",
     "output_type": "stream",
     "text": [
      "1 : (13, '  Black Magic   Halloween s the perfect excuse to break out the black vodka and an easy made from scratch soda drink awaits your ghoulish guests ', ['he made a break for the open door'], 'a sudden dash')\n",
      "2 : (11, ' If he breaks off Michigan and wins the states leaning toward him     plus Florida     Ohio     Iowa and North Carolina     he could lose New Hampshire     Nevada     Colorado and Pennsylvania and still break through with 275 electoral votes ', ['he was up two breaks in the second set'], '(tennis) a score consisting of winning a game when your opponent was serving')\n",
      "3 : (11, '  Jones intercepted Wallabies scrumhalf Will Genia to save a certain try     and while Foley s second goalkick evened the scoreline     Jones stepped Kuridrani and scored to help Scotland go into the break 17 10 up ', ['he was up two breaks in the second set'], '(tennis) a score consisting of winning a game when your opponent was serving')\n",
      "4 : (13, '  E Twaun Moore scored 14 of his 20 points in the third quarter as New Orleans appeared to break the game open ', ['he made a break for the open door'], 'a sudden dash')\n",
      "5 : (4, ' The actress recently took a break from filming Suits   and it seems that she  s using the time to get up close and personal with the world  s favourite ginger ', ['we took a 10-minute break', 'he took time out to recuperate'], 'a pause from doing something (as work)')\n",
      "6 : (39, ' Finally     a break in the monotonous playoff sequence ', ['The flat plain was broken by tall mesas'], 'vary or interrupt a uniformity or continuity')\n",
      "7 : (1, '  Her first big break was in 1970 s Brewster McCloud      and she then went on to star in Nashville  1975  and played Olive Oyl in the big screen adaptation of Popeye  1980  opposite Robin Williams  ', ['he finally got his big break'], 'an unexpected piece of good luck')\n",
      "8 : (43, ' So if you break it down     it s just over  5 a month  That s cheaper than the drugstore ', ['Things have been breaking pretty well for us in the past few months'], 'happen or take place')\n",
      "9 : (12, ' How did she keep going   Day by day     hour by hour     story by story      Yu told me during a break from packing up her office ', ['it was presented without commercial breaks', 'there was a gap in his account'], 'an act of delaying or interrupting the continuity')\n",
      "10 : (1, ' Claim to fame  Her first big break was in Marc Jacobs  Spring 2016 campaign ', ['he finally got his big break'], 'an unexpected piece of good luck')\n"
     ]
    }
   ],
   "source": [
    "word = 'break'\n",
    "count = 0\n",
    "for sentence in clean:\n",
    "    count +=1\n",
    "    print(count, ':', lesk_5(word, sentence))"
   ]
  },
  {
   "cell_type": "markdown",
   "metadata": {},
   "source": [
    "Немножко лучше: 1, 4?, 5, 6, 7, 9, 10."
   ]
  },
  {
   "cell_type": "markdown",
   "metadata": {},
   "source": [
    "## Попробуем добавить синонимы к определениям"
   ]
  },
  {
   "cell_type": "code",
   "execution_count": 161,
   "metadata": {},
   "outputs": [],
   "source": [
    "#definitions & synonyms of words in definitions, but:\n",
    "# тут я не разделяю на два слова с нижними подчёркиваниями из синонимов\n",
    "\n",
    "\n",
    "def lesk_6( word, sentence ):\n",
    "    \"\"\"Ваш код тут\"\"\"\n",
    "    bestsense = 0\n",
    "    maxoverlap = 0\n",
    "    sentence_1 = sentence\n",
    "    sentence_1 = set(tokenize(sentence))\n",
    "    for i, synset in enumerate(wn.synsets(word)):\n",
    "        definition = synset.definition()\n",
    "        definition_1 = tokenize(synset.definition())\n",
    "        \n",
    "        syns = []\n",
    "        clean_syns = []\n",
    "        \n",
    "        for word in definition_1:\n",
    "            for ss in wn.synsets(word):\n",
    "                syns += ss.lemma_names()\n",
    "        examples_ss = set(definition_1 + syns)\n",
    "        overlap = len(examples_ss & sentence_1)\n",
    "        \n",
    "        if overlap > maxoverlap:\n",
    "            maxoverlap = overlap\n",
    "            bestsense = i, sentence, definition\n",
    "    \n",
    "    return bestsense"
   ]
  },
  {
   "cell_type": "code",
   "execution_count": 162,
   "metadata": {},
   "outputs": [
    {
     "name": "stdout",
     "output_type": "stream",
     "text": [
      "1 : (14, '  Black Magic   Halloween s the perfect excuse to break out the black vodka and an easy made from scratch soda drink awaits your ghoulish guests ', 'any frame in which a bowler fails to make a strike or spare')\n",
      "2 : (0, ' If he breaks off Michigan and wins the states leaning toward him     plus Florida     Ohio     Iowa and North Carolina     he could lose New Hampshire     Nevada     Colorado and Pennsylvania and still break through with 275 electoral votes ', 'some abrupt occurrence that interrupts an ongoing activity')\n",
      "3 : (14, '  Jones intercepted Wallabies scrumhalf Will Genia to save a certain try     and while Foley s second goalkick evened the scoreline     Jones stepped Kuridrani and scored to help Scotland go into the break 17 10 up ', 'any frame in which a bowler fails to make a strike or spare')\n",
      "4 : (40, '  E Twaun Moore scored 14 of his 20 points in the third quarter as New Orleans appeared to break the game open ', 'cause to give up a habit')\n",
      "5 : (14, ' The actress recently took a break from filming Suits   and it seems that she  s using the time to get up close and personal with the world  s favourite ginger ', 'any frame in which a bowler fails to make a strike or spare')\n",
      "6 : (0, ' Finally     a break in the monotonous playoff sequence ', 'some abrupt occurrence that interrupts an ongoing activity')\n",
      "7 : (0, '  Her first big break was in 1970 s Brewster McCloud      and she then went on to star in Nashville  1975  and played Olive Oyl in the big screen adaptation of Popeye  1980  opposite Robin Williams  ', 'some abrupt occurrence that interrupts an ongoing activity')\n",
      "8 : (0, ' So if you break it down     it s just over  5 a month  That s cheaper than the drugstore ', 'some abrupt occurrence that interrupts an ongoing activity')\n",
      "9 : (23, ' How did she keep going   Day by day     hour by hour     story by story      Yu told me during a break from packing up her office ', 'scatter or part')\n",
      "10 : (40, ' Claim to fame  Her first big break was in Marc Jacobs  Spring 2016 campaign ', 'cause to give up a habit')\n"
     ]
    }
   ],
   "source": [
    "word = 'break'\n",
    "count = 0\n",
    "for sentence in clean:\n",
    "    count +=1\n",
    "    print(count, ':', lesk_6(word, sentence))"
   ]
  },
  {
   "cell_type": "markdown",
   "metadata": {},
   "source": [
    "Совсем плохо, только 6. Пожалуй, хватит, в самом начале было лучше всего."
   ]
  },
  {
   "cell_type": "markdown",
   "metadata": {},
   "source": [
    "## Победитель: токенизированный Леск с примерами употребления и двумя дополнительными стоп-словами в предобработке."
   ]
  },
  {
   "cell_type": "markdown",
   "metadata": {},
   "source": [
    "Дальше ничего интересного."
   ]
  },
  {
   "cell_type": "code",
   "execution_count": 237,
   "metadata": {},
   "outputs": [
    {
     "name": "stdout",
     "output_type": "stream",
     "text": [
      "break - some abrupt occurrence that interrupts an ongoing activity\n",
      "break - an unexpected piece of good luck\n",
      "break - (geology) a crack in the earth's crust resulting from the displacement of one side with respect to the other\n",
      "break - a personal or social separation (as between opposing factions)\n",
      "break - a pause from doing something (as work)\n",
      "break - the act of breaking something\n",
      "break - a time interval during which there is a temporary cessation of something\n",
      "break - breaking of hard tissue such as bone\n",
      "break - the occurrence of breaking\n",
      "break - an abrupt change in the tone or register of the voice (as at puberty or due to emotion)\n",
      "break - the opening shot that scatters the balls in billiards or pool\n",
      "break - (tennis) a score consisting of winning a game when your opponent was serving\n",
      "break - an act of delaying or interrupting the continuity\n",
      "break - a sudden dash\n",
      "break - any frame in which a bowler fails to make a strike or spare\n",
      "break - an escape from jail\n",
      "break - terminate\n",
      "break - become separated into pieces or fragments\n",
      "break - render inoperable or ineffective\n",
      "break - ruin completely\n",
      "break - destroy the integrity of; usually by force; cause to separate into pieces or fragments\n",
      "break - act in disregard of laws, rules, contracts, or promises\n",
      "break - move away or escape suddenly\n",
      "break - scatter or part\n",
      "break - force out or release suddenly and often violently something pent up\n",
      "break - prevent completion\n",
      "break - enter someone's (virtual or real) property in an unauthorized manner, usually with the intent to steal or commit a violent act\n",
      "break - make submissive, obedient, or useful\n",
      "break - fail to agree with; be in violation of; as of rules or patterns\n",
      "break - surpass in excellence\n",
      "break - make known to the public information that was previously known only to a few people or that was meant to be kept a secret\n",
      "break - come into being\n",
      "break - stop operating or functioning\n",
      "break - interrupt a continued activity\n",
      "break - make a rupture in the ranks of the enemy or one's own by quitting or fleeing\n",
      "break - curl over and fall apart in surf or foam, of waves\n",
      "break - lessen in force or effect\n",
      "break - be broken in\n",
      "break - come to an end\n",
      "break - vary or interrupt a uniformity or continuity\n",
      "break - cause to give up a habit\n",
      "break - give up\n",
      "break - come forth or begin from a state of latency\n",
      "break - happen or take place\n",
      "break - cause the failure or ruin of\n",
      "break - invalidate by judicial action\n",
      "break - discontinue an association or relation; go different ways\n",
      "break - assign to a lower position; reduce in rank\n",
      "break - reduce to bankruptcy\n",
      "break - change directions suddenly\n",
      "break - emerge from the surface of a body of water\n",
      "break - break down, literally or metaphorically\n",
      "break - do a break dance\n",
      "break - exchange for smaller units of money\n",
      "break - destroy the completeness of a set of related items\n",
      "break - make the opening shot that scatters the balls\n",
      "break - separate from a clinch, in boxing\n",
      "break - go to pieces\n",
      "break - break a piece from a whole\n",
      "break - become punctured or penetrated\n",
      "break - pierce or penetrate\n",
      "break - be released or become known; of news\n",
      "break - cease an action temporarily\n",
      "break - interrupt the flow of current in\n",
      "break - undergo breaking\n",
      "break - find a flaw in\n",
      "break - find the solution or key to\n",
      "break - change suddenly from one tone quality or register to another\n",
      "break - happen\n",
      "break - become fractured; break or crack on the surface only\n",
      "break - crack; of the male voice in puberty\n",
      "break - fall sharply\n",
      "break - fracture a bone of\n",
      "break - diminish or discontinue abruptly\n",
      "break - weaken or destroy in spirit or body\n"
     ]
    }
   ],
   "source": [
    "# wn.synsets('break') \n",
    "# definition\n",
    "word = 'break'\n",
    "for synset in wn.synsets(word):\n",
    "    print(word + ' - ' + synset.definition())\n",
    "#     print()"
   ]
  },
  {
   "cell_type": "code",
   "execution_count": 187,
   "metadata": {},
   "outputs": [
    {
     "name": "stdout",
     "output_type": "stream",
     "text": [
      "break - the telephone is an annoying interruption | there was a break in the action when a player was hurt\n",
      "break - he finally got his big break\n",
      "break - they built it right over a geological fault | he studied the faulting of the earth's crust\n",
      "break - they hoped to avoid a break in relations\n",
      "break - we took a 10-minute break | he took time out to recuperate\n",
      "break - the breakage was unavoidable\n",
      "break - \n",
      "break - it was a nasty fracture | the break seems to have been caused by a fall\n",
      "break - the break in the dam threatened the valley\n",
      "break - then there was a break in her voice\n",
      "break - \n",
      "break - he was up two breaks in the second set\n",
      "break - it was presented without commercial breaks | there was a gap in his account\n",
      "break - he made a break for the open door\n",
      "break - the break in the eighth frame cost him the match\n",
      "break - the breakout was carefully planned\n",
      "break - She interrupted her pregnancy | break a lucky streak | break the cycle of poverty\n",
      "break - The figurine broke | The freshly baked loaf fell apart\n",
      "break - You broke the alarm clock when you took it apart!\n",
      "break - He busted my radio!\n",
      "break - He broke the glass plate | She broke the match\n",
      "break - offend all laws of humanity | violate the basic laws or human civilization | break a law | break a promise\n",
      "break - The horses broke from the stable | Three inmates broke jail | Nobody can break out--this prison is high security\n",
      "break - The clouds broke after the heavy downpour\n",
      "break - break into tears | erupt in anger\n",
      "break - stop the project | break off the negotiations\n",
      "break - Someone broke in while I was on vacation | They broke into my car and stole my radio! | who broke into my account last night?\n",
      "break - The horse was tough to break | I broke in the new intern\n",
      "break - This sentence violates the rules of syntax\n",
      "break - She bettered her own record | break a record\n",
      "break - The auction house would not disclose the price at which the van Gogh had sold | The actress won't reveal how old she is | bring out the truth | he broke the news to her | unwrap the evidence in the murder case\n",
      "break - light broke over the horizon | Voices broke in the air\n",
      "break - The engine finally went | The car died on the road | The bus we travelled in broke down on the way to town | The coffee maker broke | The engine failed on the way to town | her eyesight went after the accident\n",
      "break - She had broken with the traditional patterns\n",
      "break - The ranks broke\n",
      "break - The surf broke\n",
      "break - soften a shock | break a fall\n",
      "break - If the new teacher won't break, we'll add some stress\n",
      "break - The heat wave finally broke yesterday\n",
      "break - The flat plain was broken by tall mesas\n",
      "break - She finally broke herself of smoking cigarettes\n",
      "break - break cigarette smoking\n",
      "break - The first winter storm broke over New York\n",
      "break - Things have been breaking pretty well for us in the past few months\n",
      "break - His peccadilloes finally broke his marriage | This play will either make or break the playwright\n",
      "break - The will was broken\n",
      "break - The business partners broke over a tax question | The couple separated after 25 years of marriage | My friend and I split up\n",
      "break - She was demoted because she always speaks up | He was broken down to Sergeant\n",
      "break - My daughter's fancy wedding is going to break me! | The slump in the financial markets smashed him\n",
      "break - \n",
      "break - The whales broke\n",
      "break - The wall collapsed | The business collapsed | The dam broke | The roof collapsed | The wall gave in | The roof finally gave under the weight of the ice\n",
      "break - Kids were break-dancing at the street corner\n",
      "break - I had to break a $100 bill just to buy the candy\n",
      "break - The book dealer would not break the set\n",
      "break - \n",
      "break - The referee broke the boxers\n",
      "break - The lawn mower finally broke | The gears wore out | The old chair finally fell apart completely\n",
      "break - break a branch from a tree\n",
      "break - The skin broke\n",
      "break - The blade broke her skin\n",
      "break - News of her death broke in the morning\n",
      "break - We pause for station identification | let's break for lunch\n",
      "break - break a circuit\n",
      "break - The simple vowels broke in many Germanic languages\n",
      "break - break an alibi | break down a proof\n",
      "break - break the code\n",
      "break - Her voice broke to a whisper when she started to talk about her children\n",
      "break - Report the news as it develops | These political movements recrudesce from time to time\n",
      "break - The glass cracked when it was heated\n",
      "break - his voice is breaking--he should no longer sing in the choir\n",
      "break - stock prices broke\n",
      "break - I broke my foot while playing hockey\n",
      "break - The patient's fever broke last night\n",
      "break - His resistance was broken | a man broken by the terrible experience of near-death\n"
     ]
    }
   ],
   "source": [
    "# wn.synsets('break') \n",
    "#examples\n",
    "word = 'break'\n",
    "for synset in wn.synsets(word):\n",
    "    print(word + ' - ' + ' | '.join(synset.examples()))\n",
    "#     print()"
   ]
  },
  {
   "cell_type": "code",
   "execution_count": 215,
   "metadata": {},
   "outputs": [
    {
     "name": "stdout",
     "output_type": "stream",
     "text": [
      "break - some abrupt occurrence that interrupts an ongoing activity | the telephone is an annoying interruption | there was a break in the action when a player was hurt\n",
      "break - an unexpected piece of good luck | he finally got his big break\n",
      "break - (geology) a crack in the earth's crust resulting from the displacement of one side with respect to the other | they built it right over a geological fault | he studied the faulting of the earth's crust\n",
      "break - a personal or social separation (as between opposing factions) | they hoped to avoid a break in relations\n",
      "break - a pause from doing something (as work) | we took a 10-minute break | he took time out to recuperate\n",
      "break - the act of breaking something | the breakage was unavoidable\n",
      "break - a time interval during which there is a temporary cessation of something | \n",
      "break - breaking of hard tissue such as bone | it was a nasty fracture | the break seems to have been caused by a fall\n",
      "break - the occurrence of breaking | the break in the dam threatened the valley\n",
      "break - an abrupt change in the tone or register of the voice (as at puberty or due to emotion) | then there was a break in her voice\n",
      "break - the opening shot that scatters the balls in billiards or pool | \n",
      "break - (tennis) a score consisting of winning a game when your opponent was serving | he was up two breaks in the second set\n",
      "break - an act of delaying or interrupting the continuity | it was presented without commercial breaks | there was a gap in his account\n",
      "break - a sudden dash | he made a break for the open door\n",
      "break - any frame in which a bowler fails to make a strike or spare | the break in the eighth frame cost him the match\n",
      "break - an escape from jail | the breakout was carefully planned\n",
      "break - terminate | She interrupted her pregnancy | break a lucky streak | break the cycle of poverty\n",
      "break - become separated into pieces or fragments | The figurine broke | The freshly baked loaf fell apart\n",
      "break - render inoperable or ineffective | You broke the alarm clock when you took it apart!\n",
      "break - ruin completely | He busted my radio!\n",
      "break - destroy the integrity of; usually by force; cause to separate into pieces or fragments | He broke the glass plate | She broke the match\n",
      "break - act in disregard of laws, rules, contracts, or promises | offend all laws of humanity | violate the basic laws or human civilization | break a law | break a promise\n",
      "break - move away or escape suddenly | The horses broke from the stable | Three inmates broke jail | Nobody can break out--this prison is high security\n",
      "break - scatter or part | The clouds broke after the heavy downpour\n",
      "break - force out or release suddenly and often violently something pent up | break into tears | erupt in anger\n",
      "break - prevent completion | stop the project | break off the negotiations\n",
      "break - enter someone's (virtual or real) property in an unauthorized manner, usually with the intent to steal or commit a violent act | Someone broke in while I was on vacation | They broke into my car and stole my radio! | who broke into my account last night?\n",
      "break - make submissive, obedient, or useful | The horse was tough to break | I broke in the new intern\n",
      "break - fail to agree with; be in violation of; as of rules or patterns | This sentence violates the rules of syntax\n",
      "break - surpass in excellence | She bettered her own record | break a record\n",
      "break - make known to the public information that was previously known only to a few people or that was meant to be kept a secret | The auction house would not disclose the price at which the van Gogh had sold | The actress won't reveal how old she is | bring out the truth | he broke the news to her | unwrap the evidence in the murder case\n",
      "break - come into being | light broke over the horizon | Voices broke in the air\n",
      "break - stop operating or functioning | The engine finally went | The car died on the road | The bus we travelled in broke down on the way to town | The coffee maker broke | The engine failed on the way to town | her eyesight went after the accident\n",
      "break - interrupt a continued activity | She had broken with the traditional patterns\n",
      "break - make a rupture in the ranks of the enemy or one's own by quitting or fleeing | The ranks broke\n",
      "break - curl over and fall apart in surf or foam, of waves | The surf broke\n",
      "break - lessen in force or effect | soften a shock | break a fall\n",
      "break - be broken in | If the new teacher won't break, we'll add some stress\n",
      "break - come to an end | The heat wave finally broke yesterday\n",
      "break - vary or interrupt a uniformity or continuity | The flat plain was broken by tall mesas\n",
      "break - cause to give up a habit | She finally broke herself of smoking cigarettes\n",
      "break - give up | break cigarette smoking\n",
      "break - come forth or begin from a state of latency | The first winter storm broke over New York\n",
      "break - happen or take place | Things have been breaking pretty well for us in the past few months\n",
      "break - cause the failure or ruin of | His peccadilloes finally broke his marriage | This play will either make or break the playwright\n",
      "break - invalidate by judicial action | The will was broken\n",
      "break - discontinue an association or relation; go different ways | The business partners broke over a tax question | The couple separated after 25 years of marriage | My friend and I split up\n",
      "break - assign to a lower position; reduce in rank | She was demoted because she always speaks up | He was broken down to Sergeant\n",
      "break - reduce to bankruptcy | My daughter's fancy wedding is going to break me! | The slump in the financial markets smashed him\n",
      "break - change directions suddenly | \n",
      "break - emerge from the surface of a body of water | The whales broke\n",
      "break - break down, literally or metaphorically | The wall collapsed | The business collapsed | The dam broke | The roof collapsed | The wall gave in | The roof finally gave under the weight of the ice\n",
      "break - do a break dance | Kids were break-dancing at the street corner\n",
      "break - exchange for smaller units of money | I had to break a $100 bill just to buy the candy\n",
      "break - destroy the completeness of a set of related items | The book dealer would not break the set\n",
      "break - make the opening shot that scatters the balls | \n",
      "break - separate from a clinch, in boxing | The referee broke the boxers\n",
      "break - go to pieces | The lawn mower finally broke | The gears wore out | The old chair finally fell apart completely\n",
      "break - break a piece from a whole | break a branch from a tree\n",
      "break - become punctured or penetrated | The skin broke\n",
      "break - pierce or penetrate | The blade broke her skin\n",
      "break - be released or become known; of news | News of her death broke in the morning\n",
      "break - cease an action temporarily | We pause for station identification | let's break for lunch\n",
      "break - interrupt the flow of current in | break a circuit\n",
      "break - undergo breaking | The simple vowels broke in many Germanic languages\n",
      "break - find a flaw in | break an alibi | break down a proof\n",
      "break - find the solution or key to | break the code\n",
      "break - change suddenly from one tone quality or register to another | Her voice broke to a whisper when she started to talk about her children\n",
      "break - happen | Report the news as it develops | These political movements recrudesce from time to time\n",
      "break - become fractured; break or crack on the surface only | The glass cracked when it was heated\n",
      "break - crack; of the male voice in puberty | his voice is breaking--he should no longer sing in the choir\n",
      "break - fall sharply | stock prices broke\n",
      "break - fracture a bone of | I broke my foot while playing hockey\n",
      "break - diminish or discontinue abruptly | The patient's fever broke last night\n",
      "break - weaken or destroy in spirit or body | His resistance was broken | a man broken by the terrible experience of near-death\n"
     ]
    }
   ],
   "source": [
    "word = 'break'\n",
    "for synset in wn.synsets(word):\n",
    "    print(word + ' - ' + synset.definition()  + ' | ' +  ' | '.join(synset.examples()))\n",
    "#     print()"
   ]
  }
 ],
 "metadata": {
  "kernelspec": {
   "display_name": "Python 3",
   "language": "python",
   "name": "python3"
  },
  "language_info": {
   "codemirror_mode": {
    "name": "ipython",
    "version": 3
   },
   "file_extension": ".py",
   "mimetype": "text/x-python",
   "name": "python",
   "nbconvert_exporter": "python",
   "pygments_lexer": "ipython3",
   "version": "3.6.8"
  }
 },
 "nbformat": 4,
 "nbformat_minor": 2
}
